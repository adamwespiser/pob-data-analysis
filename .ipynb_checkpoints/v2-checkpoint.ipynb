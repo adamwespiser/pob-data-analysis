{
 "cells": [
  {
   "cell_type": "markdown",
   "metadata": {},
   "source": [
    "**1** generate points"
   ]
  },
  {
   "cell_type": "code",
   "execution_count": 204,
   "metadata": {},
   "outputs": [
    {
     "name": "stdout",
     "output_type": "stream",
     "text": [
      "[[ 9.42937127 40.28659353  0.13390732 16.80086967  2.18136301 39.01323429\n",
      "  32.49299195 40.63153036 30.66997126 48.91039338 40.61726621 48.74617466\n",
      "  20.74801716 43.52255185 46.77650281 33.18335286 29.09591065 40.2268988\n",
      "   8.276604   36.31060566]\n",
      " [26.62403677  1.72094695 45.96098411 44.11062467 19.82936805 48.93912919\n",
      "  44.18192301 47.85088909 27.34548919 36.91136891 41.03892758 26.94048411\n",
      "  47.46394754 43.7085282   6.18875481 17.92773724  0.15923616 26.31963824\n",
      "  48.03953186 20.3785915 ]]\n",
      "[[ 9.42937127 26.62403677]\n",
      " [40.28659353  1.72094695]\n",
      " [ 0.13390732 45.96098411]\n",
      " [16.80086967 44.11062467]\n",
      " [ 2.18136301 19.82936805]\n",
      " [39.01323429 48.93912919]\n",
      " [32.49299195 44.18192301]\n",
      " [40.63153036 47.85088909]\n",
      " [30.66997126 27.34548919]\n",
      " [48.91039338 36.91136891]\n",
      " [40.61726621 41.03892758]\n",
      " [48.74617466 26.94048411]\n",
      " [20.74801716 47.46394754]\n",
      " [43.52255185 43.7085282 ]\n",
      " [46.77650281  6.18875481]\n",
      " [33.18335286 17.92773724]\n",
      " [29.09591065  0.15923616]\n",
      " [40.2268988  26.31963824]\n",
      " [ 8.276604   48.03953186]\n",
      " [36.31060566 20.3785915 ]]\n"
     ]
    },
    {
     "data": {
      "image/png": "[encoded data removed]",
      "text/plain": [
       "<Figure size 432x288 with 1 Axes>"
      ]
     },
     "metadata": {
      "needs_background": "light"
     },
     "output_type": "display_data"
    }
   ],
   "source": [
    "import numpy as np, datetime\n",
    "from scipy import spatial\n",
    "import matplotlib.pyplot as plt\n",
    "\n",
    "fieldSize = 50\n",
    "numNodes = 20\n",
    "maxDistance = 15\n",
    "\n",
    "xy = np.multiply(np.random.rand(2, numNodes), fieldSize)\n",
    "print(xy)\n",
    "\n",
    "# generate points\n",
    "points = np.column_stack(xy)\n",
    "print(points)\n",
    "\n",
    "# plot points\n",
    "plt.plot(xy[0], xy[1], 'b.')\n",
    "label = 0\n",
    "for x, y in zip(xy[0], xy[1]):\n",
    "    plt.annotate(label, # this is the text\n",
    "                 (x, y), # this is the point to label\n",
    "                 textcoords=\"offset points\", # how to position the text\n",
    "                 xytext=(0,10), # distance from text to points (x,y)\n",
    "                 ha='center') # horizontal alignment can be left, right or center\n",
    "    label = label + 1\n",
    "\n",
    "# plot connections\n",
    "kdTree = spatial.cKDTree(points)\n",
    "pairs = list(kdTree.query_pairs(maxDistance))\n",
    "\n",
    "def connectpoints(x,y,p1,p2):\n",
    "    x1, x2 = x[p1], x[p2]\n",
    "    y1, y2 = y[p1], y[p2]\n",
    "    plt.plot([x1,x2],[y1,y2],'k-')\n",
    "    \n",
    "for i in pairs:\n",
    "    connectpoints(xy[0], xy[1], i[0], i[1])\n",
    "\n",
    "plt.show()\n"
   ]
  },
  {
   "cell_type": "markdown",
   "metadata": {},
   "source": [
    "**2** generate distances matrix"
   ]
  },
  {
   "cell_type": "code",
   "execution_count": 205,
   "metadata": {},
   "outputs": [
    {
     "name": "stdout",
     "output_type": "stream",
     "text": [
      "[[ 0.          0.          0.          0.          9.93484508  0.\n",
      "   0.          0.          0.          0.          0.          0.\n",
      "   0.          0.          0.          0.          0.          0.\n",
      "   0.          0.        ]\n",
      " [ 0.          0.          0.          0.          0.          0.\n",
      "   0.          0.          0.          0.          0.          0.\n",
      "   0.          0.          7.8791008   0.         11.29912935  0.\n",
      "   0.          0.        ]\n",
      " [ 0.          0.          0.          0.          0.          0.\n",
      "   0.          0.          0.          0.          0.          0.\n",
      "   0.          0.          0.          0.          0.          0.\n",
      "   8.40380092  0.        ]\n",
      " [ 0.          0.          0.          0.          0.          0.\n",
      "   0.          0.          0.          0.          0.          0.\n",
      "   5.1792613   0.          0.          0.          0.          0.\n",
      "   9.38612896  0.        ]\n",
      " [ 9.93484508  0.          0.          0.          0.          0.\n",
      "   0.          0.          0.          0.          0.          0.\n",
      "   0.          0.          0.          0.          0.          0.\n",
      "   0.          0.        ]\n",
      " [ 0.          0.          0.          0.          0.          0.\n",
      "   8.07121867  1.95016633  0.          0.          8.06139591  0.\n",
      "   0.          6.90602141  0.          0.          0.          0.\n",
      "   0.          0.        ]\n",
      " [ 0.          0.          0.          0.          0.          8.07121867\n",
      "   0.          8.92732432  0.          0.          8.71104199  0.\n",
      "  12.19492181 11.03971441  0.          0.          0.          0.\n",
      "   0.          0.        ]\n",
      " [ 0.          0.          0.          0.          0.          1.95016633\n",
      "   8.92732432  0.          0.         13.71906245  6.81197644  0.\n",
      "   0.          5.05145118  0.          0.          0.          0.\n",
      "   0.          0.        ]\n",
      " [ 0.          0.          0.          0.          0.          0.\n",
      "   0.          0.          0.          0.          0.          0.\n",
      "   0.          0.          0.          9.74736574  0.          9.61182782\n",
      "   0.          8.96406268]\n",
      " [ 0.          0.          0.          0.          0.          0.\n",
      "   0.         13.71906245  0.          0.          9.26351439  9.97223704\n",
      "   0.          8.67353508  0.          0.          0.         13.69627091\n",
      "   0.          0.        ]\n",
      " [ 0.          0.          0.          0.          0.          8.06139591\n",
      "   8.71104199  6.81197644  0.          9.26351439  0.          0.\n",
      "   0.          3.94556107  0.          0.          0.         14.72446486\n",
      "   0.          0.        ]\n",
      " [ 0.          0.          0.          0.          0.          0.\n",
      "   0.          0.          0.          9.97223704  0.          0.\n",
      "   0.          0.          0.          0.          0.          8.54186812\n",
      "   0.         14.0606476 ]\n",
      " [ 0.          0.          0.          5.1792613   0.          0.\n",
      "  12.19492181  0.          0.          0.          0.          0.\n",
      "   0.          0.          0.          0.          0.          0.\n",
      "  12.48468836  0.        ]\n",
      " [ 0.          0.          0.          0.          0.          6.90602141\n",
      "  11.03971441  5.05145118  0.          8.67353508  3.94556107  0.\n",
      "   0.          0.          0.          0.          0.          0.\n",
      "   0.          0.        ]\n",
      " [ 0.          7.8791008   0.          0.          0.          0.\n",
      "   0.          0.          0.          0.          0.          0.\n",
      "   0.          0.          0.          0.          0.          0.\n",
      "   0.          0.        ]\n",
      " [ 0.          0.          0.          0.          0.          0.\n",
      "   0.          0.          9.74736574  0.          0.          0.\n",
      "   0.          0.          0.          0.          0.         10.95607328\n",
      "   0.          3.97320987]\n",
      " [ 0.         11.29912935  0.          0.          0.          0.\n",
      "   0.          0.          0.          0.          0.          0.\n",
      "   0.          0.          0.          0.          0.          0.\n",
      "   0.          0.        ]\n",
      " [ 0.          0.          0.          0.          0.          0.\n",
      "   0.          0.          9.61182782 13.69627091 14.72446486  8.54186812\n",
      "   0.          0.          0.         10.95607328  0.          0.\n",
      "   0.          7.11571418]\n",
      " [ 0.          0.          8.40380092  9.38612896  0.          0.\n",
      "   0.          0.          0.          0.          0.          0.\n",
      "  12.48468836  0.          0.          0.          0.          0.\n",
      "   0.          0.        ]\n",
      " [ 0.          0.          0.          0.          0.          0.\n",
      "   0.          0.          8.96406268  0.          0.         14.0606476\n",
      "   0.          0.          0.          3.97320987  0.          7.11571418\n",
      "   0.          0.        ]]\n"
     ]
    }
   ],
   "source": [
    "kdTree = spatial.cKDTree(points)\n",
    "dists = kdTree.sparse_distance_matrix(kdTree, maxDistance)\n",
    "\n",
    "# Randomize distances matrix (or not)\n",
    "rdists = dists.toarray() #* np.random.normal(1, 0.1, dists.shape)\n",
    "print(rdists)"
   ]
  },
  {
   "cell_type": "code",
   "execution_count": 206,
   "metadata": {},
   "outputs": [
    {
     "name": "stdout",
     "output_type": "stream",
     "text": [
      "5.179261295032866\n",
      "0.0\n",
      "[[ 0.          0.          0.          0.          9.93484508  0.\n",
      "   0.          0.          0.          0.          0.          0.\n",
      "   0.          0.          0.          0.          0.          0.\n",
      "   0.          0.        ]\n",
      " [ 0.          0.          0.          0.          0.          0.\n",
      "   0.          0.          0.          0.          0.          0.\n",
      "   0.          0.          7.8791008   0.         11.29912935  0.\n",
      "   0.          0.        ]\n",
      " [ 0.          0.          0.          0.          0.          0.\n",
      "   0.          0.          0.          0.          0.          0.\n",
      "   0.          0.          0.          0.          0.          0.\n",
      "   8.40380092  0.        ]\n",
      " [ 0.          0.          0.          0.          0.          0.\n",
      "   0.          0.          0.          0.          0.          0.\n",
      "  20.          0.          0.          0.         10.          0.\n",
      "   9.38612896  0.        ]\n",
      " [ 9.93484508  0.          0.          0.          0.          0.\n",
      "   0.          0.          0.          0.          0.          0.\n",
      "   0.          0.          0.          0.          0.          0.\n",
      "   0.          0.        ]\n",
      " [ 0.          0.          0.          0.          0.          0.\n",
      "   8.07121867  1.95016633  0.          0.          8.06139591  0.\n",
      "   0.          6.90602141  0.          0.          0.          0.\n",
      "   0.          0.        ]\n",
      " [ 0.          0.          0.          0.          0.          8.07121867\n",
      "   0.          8.92732432  0.          0.          8.71104199  0.\n",
      "  12.19492181 11.03971441  0.          0.          0.          0.\n",
      "   0.          0.        ]\n",
      " [ 0.          0.          0.          0.          0.          1.95016633\n",
      "   8.92732432  0.          0.         13.71906245  6.81197644  0.\n",
      "   0.          5.05145118  0.          0.          0.          0.\n",
      "   0.          0.        ]\n",
      " [ 0.          0.          0.          0.          0.          0.\n",
      "   0.          0.          0.          0.          0.          0.\n",
      "   0.          0.          0.          9.74736574  0.          9.61182782\n",
      "   0.          8.96406268]\n",
      " [ 0.          0.          0.          0.          0.          0.\n",
      "   0.         13.71906245  0.          0.          9.26351439  9.97223704\n",
      "   0.          8.67353508  0.          0.          0.         13.69627091\n",
      "   0.          0.        ]\n",
      " [ 0.          0.          0.          0.          0.          8.06139591\n",
      "   8.71104199  6.81197644  0.          9.26351439  0.          0.\n",
      "   0.          3.94556107  0.          0.          0.         14.72446486\n",
      "   0.          0.        ]\n",
      " [ 0.          0.          0.          0.          0.          0.\n",
      "   0.          0.          0.          9.97223704  0.          0.\n",
      "   0.          0.          0.          0.          0.          8.54186812\n",
      "   0.         14.0606476 ]\n",
      " [ 0.          0.          0.          5.1792613   0.          0.\n",
      "  12.19492181  0.          0.          0.          0.          0.\n",
      "   0.          0.          0.          0.          0.          0.\n",
      "  12.48468836  0.        ]\n",
      " [ 0.          0.          0.          0.          0.          6.90602141\n",
      "  11.03971441  5.05145118  0.          8.67353508  3.94556107  0.\n",
      "   0.          0.          0.          0.          0.          0.\n",
      "   0.          0.        ]\n",
      " [ 0.          7.8791008   0.          0.          0.          0.\n",
      "   0.          0.          0.          0.          0.          0.\n",
      "   0.          0.          0.          0.          0.          0.\n",
      "   0.          0.        ]\n",
      " [ 0.          0.          0.          0.          0.          0.\n",
      "   0.          0.          9.74736574  0.          0.          0.\n",
      "   0.          0.          0.          0.          0.         10.95607328\n",
      "   0.          3.97320987]\n",
      " [ 0.         11.29912935  0.          0.          0.          0.\n",
      "   0.          0.          0.          0.          0.          0.\n",
      "   0.          0.          0.          0.          0.          0.\n",
      "   0.          0.        ]\n",
      " [ 0.          0.          0.          0.          0.          0.\n",
      "   0.          0.          9.61182782 13.69627091 14.72446486  8.54186812\n",
      "   0.          0.          0.         10.95607328  0.          0.\n",
      "   0.          7.11571418]\n",
      " [ 0.          0.          8.40380092  9.38612896  0.          0.\n",
      "   0.          0.          0.          0.          0.          0.\n",
      "  12.48468836  0.          0.          0.          0.          0.\n",
      "   0.          0.        ]\n",
      " [ 0.          0.          0.          0.          0.          0.\n",
      "   0.          0.          8.96406268  0.          0.         14.0606476\n",
      "   0.          0.          0.          3.97320987  0.          7.11571418\n",
      "   0.          0.        ]]\n"
     ]
    }
   ],
   "source": [
    "# insert cheating into distances matrix\n",
    "cdists = np.copy(rdists)\n",
    "print(cdists[3,12])\n",
    "cdists[3,12] = 20\n",
    "print(cdists[3,16])\n",
    "cdists[3,16] = 10\n",
    "\n",
    "\n",
    "print(cdists)"
   ]
  },
  {
   "cell_type": "markdown",
   "metadata": {},
   "source": [
    "**3** generate disagreement matrix"
   ]
  },
  {
   "cell_type": "code",
   "execution_count": 207,
   "metadata": {},
   "outputs": [
    {
     "name": "stdout",
     "output_type": "stream",
     "text": [
      "[[ 0.         0.         0.         0.         0.         0.\n",
      "   0.         0.         0.         0.         0.         0.\n",
      "   0.         0.         0.         0.         0.         0.\n",
      "   0.         0.       ]\n",
      " [ 0.         0.         0.         0.         0.         0.\n",
      "   0.         0.         0.         0.         0.         0.\n",
      "   0.         0.         0.         0.         0.         0.\n",
      "   0.         0.       ]\n",
      " [ 0.         0.         0.         0.         0.         0.\n",
      "   0.         0.         0.         0.         0.         0.\n",
      "   0.         0.         0.         0.         0.         0.\n",
      "   0.         0.       ]\n",
      " [ 0.         0.         0.         0.         0.         0.\n",
      "   0.         0.         0.         0.         0.         0.\n",
      "  14.8207387  0.         0.         0.        10.         0.\n",
      "   0.         0.       ]\n",
      " [ 0.         0.         0.         0.         0.         0.\n",
      "   0.         0.         0.         0.         0.         0.\n",
      "   0.         0.         0.         0.         0.         0.\n",
      "   0.         0.       ]\n",
      " [ 0.         0.         0.         0.         0.         0.\n",
      "   0.         0.         0.         0.         0.         0.\n",
      "   0.         0.         0.         0.         0.         0.\n",
      "   0.         0.       ]\n",
      " [ 0.         0.         0.         0.         0.         0.\n",
      "   0.         0.         0.         0.         0.         0.\n",
      "   0.         0.         0.         0.         0.         0.\n",
      "   0.         0.       ]\n",
      " [ 0.         0.         0.         0.         0.         0.\n",
      "   0.         0.         0.         0.         0.         0.\n",
      "   0.         0.         0.         0.         0.         0.\n",
      "   0.         0.       ]\n",
      " [ 0.         0.         0.         0.         0.         0.\n",
      "   0.         0.         0.         0.         0.         0.\n",
      "   0.         0.         0.         0.         0.         0.\n",
      "   0.         0.       ]\n",
      " [ 0.         0.         0.         0.         0.         0.\n",
      "   0.         0.         0.         0.         0.         0.\n",
      "   0.         0.         0.         0.         0.         0.\n",
      "   0.         0.       ]\n",
      " [ 0.         0.         0.         0.         0.         0.\n",
      "   0.         0.         0.         0.         0.         0.\n",
      "   0.         0.         0.         0.         0.         0.\n",
      "   0.         0.       ]\n",
      " [ 0.         0.         0.         0.         0.         0.\n",
      "   0.         0.         0.         0.         0.         0.\n",
      "   0.         0.         0.         0.         0.         0.\n",
      "   0.         0.       ]\n",
      " [ 0.         0.         0.        14.8207387  0.         0.\n",
      "   0.         0.         0.         0.         0.         0.\n",
      "   0.         0.         0.         0.         0.         0.\n",
      "   0.         0.       ]\n",
      " [ 0.         0.         0.         0.         0.         0.\n",
      "   0.         0.         0.         0.         0.         0.\n",
      "   0.         0.         0.         0.         0.         0.\n",
      "   0.         0.       ]\n",
      " [ 0.         0.         0.         0.         0.         0.\n",
      "   0.         0.         0.         0.         0.         0.\n",
      "   0.         0.         0.         0.         0.         0.\n",
      "   0.         0.       ]\n",
      " [ 0.         0.         0.         0.         0.         0.\n",
      "   0.         0.         0.         0.         0.         0.\n",
      "   0.         0.         0.         0.         0.         0.\n",
      "   0.         0.       ]\n",
      " [ 0.         0.         0.        10.         0.         0.\n",
      "   0.         0.         0.         0.         0.         0.\n",
      "   0.         0.         0.         0.         0.         0.\n",
      "   0.         0.       ]\n",
      " [ 0.         0.         0.         0.         0.         0.\n",
      "   0.         0.         0.         0.         0.         0.\n",
      "   0.         0.         0.         0.         0.         0.\n",
      "   0.         0.       ]\n",
      " [ 0.         0.         0.         0.         0.         0.\n",
      "   0.         0.         0.         0.         0.         0.\n",
      "   0.         0.         0.         0.         0.         0.\n",
      "   0.         0.       ]\n",
      " [ 0.         0.         0.         0.         0.         0.\n",
      "   0.         0.         0.         0.         0.         0.\n",
      "   0.         0.         0.         0.         0.         0.\n",
      "   0.         0.       ]]\n"
     ]
    }
   ],
   "source": [
    "disagrees = np.abs(cdists - cdists.T)\n",
    "print(disagrees)"
   ]
  },
  {
   "cell_type": "markdown",
   "metadata": {},
   "source": [
    "**4** SVD with disagreement matrix"
   ]
  },
  {
   "cell_type": "code",
   "execution_count": 208,
   "metadata": {},
   "outputs": [
    {
     "name": "stdout",
     "output_type": "stream",
     "text": [
      "[[-2.94819055e-15 -3.99112409e-17]\n",
      " [ 1.49424967e-15  6.19135293e-17]\n",
      " [ 0.00000000e+00  0.00000000e+00]\n",
      " [ 1.50272062e+01 -9.68696911e+00]\n",
      " [ 0.00000000e+00  0.00000000e+00]\n",
      " [ 0.00000000e+00  0.00000000e+00]\n",
      " [ 0.00000000e+00  0.00000000e+00]\n",
      " [ 0.00000000e+00  0.00000000e+00]\n",
      " [ 0.00000000e+00  0.00000000e+00]\n",
      " [ 0.00000000e+00  0.00000000e+00]\n",
      " [ 0.00000000e+00  0.00000000e+00]\n",
      " [ 0.00000000e+00  0.00000000e+00]\n",
      " [ 8.03003601e+00  1.24568382e+01]\n",
      " [ 0.00000000e+00  0.00000000e+00]\n",
      " [ 0.00000000e+00  0.00000000e+00]\n",
      " [ 0.00000000e+00  0.00000000e+00]\n",
      " [ 5.41810781e+00  8.40500493e+00]\n",
      " [ 0.00000000e+00  0.00000000e+00]\n",
      " [ 0.00000000e+00  0.00000000e+00]\n",
      " [ 0.00000000e+00  0.00000000e+00]]\n"
     ]
    },
    {
     "data": {
      "image/png": "[encoded data removed]",
      "text/plain": [
       "<Figure size 432x288 with 1 Axes>"
      ]
     },
     "metadata": {
      "needs_background": "light"
     },
     "output_type": "display_data"
    }
   ],
   "source": [
    "from sklearn.decomposition import TruncatedSVD\n",
    "\n",
    "svd = TruncatedSVD()\n",
    "transformed = svd.fit_transform(disagrees)\n",
    "print(transformed)\n",
    "\n",
    "rotated = np.rot90(transformed)\n",
    "\n",
    "plt.plot(rotated[0], rotated[1], 'b.')\n",
    "\n",
    "label = 0\n",
    "for x, y in zip(rotated[0], rotated[1]):\n",
    "    plt.annotate(label, # this is the text\n",
    "                 (x, y), # this is the point to label\n",
    "                 textcoords=\"offset points\", # how to position the text\n",
    "                 xytext=(0,10), # distance from text to points (x,y)\n",
    "                 ha='center') # horizontal alignment can be left, right or center\n",
    "    label = label + 1  \n",
    "\n",
    "plt.show()"
   ]
  },
  {
   "cell_type": "markdown",
   "metadata": {},
   "source": [
    "**5** compute disagreement metric per node"
   ]
  },
  {
   "cell_type": "code",
   "execution_count": 209,
   "metadata": {},
   "outputs": [
    {
     "name": "stdout",
     "output_type": "stream",
     "text": [
      "[ 0.         0.         0.        24.8207387  0.         0.\n",
      "  0.         0.         0.         0.         0.         0.\n",
      " 14.8207387  0.         0.         0.        10.         0.\n",
      "  0.         0.       ]\n",
      "[0 0 0 2 0 0 0 0 0 0 0 0 1 0 0 0 1 0 0 0]\n",
      "[        nan         nan         nan 12.41036935         nan         nan\n",
      "         nan         nan         nan         nan         nan         nan\n",
      " 14.8207387          nan         nan         nan 10.                 nan\n",
      "         nan         nan]\n",
      "12.410369352483567\n"
     ]
    },
    {
     "name": "stderr",
     "output_type": "stream",
     "text": [
      "/Users/jehan/opt/anaconda3/lib/python3.7/site-packages/ipykernel_launcher.py:5: RuntimeWarning: invalid value encountered in true_divide\n",
      "  \"\"\"\n"
     ]
    }
   ],
   "source": [
    "rowsum = np.sum(disagrees, axis=1)\n",
    "print(rowsum)\n",
    "nonzerocount = np.count_nonzero(disagrees, axis=1)\n",
    "print(nonzerocount)\n",
    "dismetric = rowsum / nonzerocount\n",
    "\n",
    "print(dismetric)\n",
    "\n"
   ]
  },
  {
   "cell_type": "code",
   "execution_count": null,
   "metadata": {},
   "outputs": [],
   "source": []
  }
 ],
 "metadata": {
  "kernelspec": {
   "display_name": "Python 3",
   "language": "python",
   "name": "python3"
  },
  "language_info": {
   "codemirror_mode": {
    "name": "ipython",
    "version": 3
   },
   "file_extension": ".py",
   "mimetype": "text/x-python",
   "name": "python",
   "nbconvert_exporter": "python",
   "pygments_lexer": "ipython3",
   "version": "3.7.4"
  }
 },
 "nbformat": 4,
 "nbformat_minor": 4
}
